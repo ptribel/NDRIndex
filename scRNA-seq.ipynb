{
 "cells": [
  {
   "cell_type": "code",
   "execution_count": 12,
   "id": "892cc789",
   "metadata": {
    "scrolled": true
   },
   "outputs": [],
   "source": [
    "library(SingleCellExperiment)\n",
    "library(scRNAseq)\n",
    "library(Rtsne)"
   ]
  },
  {
   "cell_type": "code",
   "execution_count": 14,
   "id": "bfb9cbaa",
   "metadata": {
    "scrolled": true
   },
   "outputs": [
    {
     "name": "stderr",
     "output_type": "stream",
     "text": [
      "snapshotDate(): 2022-10-31\n",
      "\n",
      "see ?scRNAseq and browseVignettes('scRNAseq') for documentation\n",
      "\n",
      "downloading 1 resources\n",
      "\n",
      "retrieving 1 resource\n",
      "\n",
      "loading from cache\n",
      "\n",
      "see ?scRNAseq and browseVignettes('scRNAseq') for documentation\n",
      "\n",
      "downloading 1 resources\n",
      "\n",
      "retrieving 1 resource\n",
      "\n",
      "loading from cache\n",
      "\n"
     ]
    }
   ],
   "source": [
    "sce <-BaronPancreasData('mouse')# ReprocessedAllenData(\"tophat_counts\")"
   ]
  },
  {
   "cell_type": "code",
   "execution_count": 15,
   "id": "f14d3187",
   "metadata": {},
   "outputs": [
    {
     "data": {
      "text/plain": [
       "class: SingleCellExperiment \n",
       "dim: 6 1886 \n",
       "metadata(0):\n",
       "assays(1): counts\n",
       "rownames(6): X0610007P14Rik X0610009B22Rik ... X0610009O20Rik\n",
       "  X0610010F05Rik\n",
       "rowData names(0):\n",
       "colnames(1886): mouse1_lib1.final_cell_0001 mouse1_lib1.final_cell_0002\n",
       "  ... mouse2_lib3.final_cell_0394 mouse2_lib3.final_cell_0395\n",
       "colData names(2): strain label\n",
       "reducedDimNames(0):\n",
       "mainExpName: NULL\n",
       "altExpNames(0):"
      ]
     },
     "metadata": {},
     "output_type": "display_data"
    }
   ],
   "source": [
    "head(sce)"
   ]
  },
  {
   "cell_type": "code",
   "execution_count": 16,
   "id": "18ef1cc0",
   "metadata": {},
   "outputs": [
    {
     "data": {
      "text/html": [
       "<style>\n",
       ".list-inline {list-style: none; margin:0; padding: 0}\n",
       ".list-inline>li {display: inline-block}\n",
       ".list-inline>li:not(:last-child)::after {content: \"\\00b7\"; padding: 0 .5ex}\n",
       "</style>\n",
       "<ol class=list-inline><li>'counts'</li><li>'logcounts'</li></ol>\n"
      ],
      "text/latex": [
       "\\begin{enumerate*}\n",
       "\\item 'counts'\n",
       "\\item 'logcounts'\n",
       "\\end{enumerate*}\n"
      ],
      "text/markdown": [
       "1. 'counts'\n",
       "2. 'logcounts'\n",
       "\n",
       "\n"
      ],
      "text/plain": [
       "[1] \"counts\"    \"logcounts\""
      ]
     },
     "metadata": {},
     "output_type": "display_data"
    }
   ],
   "source": [
    "counts <- assay(sce, \"counts\")\n",
    "libsizes <- colSums(counts)\n",
    "size.factors <- libsizes/mean(libsizes)\n",
    "logcounts(sce) <- log2(t(t(counts)/size.factors) + 1)\n",
    "assayNames(sce)"
   ]
  },
  {
   "cell_type": "code",
   "execution_count": 17,
   "id": "787c4bd0",
   "metadata": {},
   "outputs": [
    {
     "data": {
      "text/plain": [
       "class: SingleCellExperiment \n",
       "dim: 14878 1886 \n",
       "metadata(0):\n",
       "assays(2): counts logcounts\n",
       "rownames(14878): X0610007P14Rik X0610009B22Rik ... Zzz3 l7Rn6\n",
       "rowData names(0):\n",
       "colnames(1886): mouse1_lib1.final_cell_0001 mouse1_lib1.final_cell_0002\n",
       "  ... mouse2_lib3.final_cell_0394 mouse2_lib3.final_cell_0395\n",
       "colData names(2): strain label\n",
       "reducedDimNames(2): PCA TSNE\n",
       "mainExpName: NULL\n",
       "altExpNames(0):"
      ]
     },
     "metadata": {},
     "output_type": "display_data"
    }
   ],
   "source": [
    "pca_data <- prcomp(t(logcounts(sce)), rank=50)\n",
    "\n",
    "set.seed(5252)\n",
    "tsne_data <- Rtsne(pca_data$x[,1:50], pca = FALSE)\n",
    "\n",
    "reducedDims(sce) <- list(PCA=pca_data$x, TSNE=tsne_data$Y)\n",
    "sce"
   ]
  },
  {
   "cell_type": "code",
   "execution_count": 19,
   "id": "42930c43",
   "metadata": {},
   "outputs": [
    {
     "data": {
      "text/html": [
       "<table class=\"dataframe\">\n",
       "<caption>A matrix: 6 × 50 of type dbl</caption>\n",
       "<thead>\n",
       "\t<tr><th></th><th scope=col>PC1</th><th scope=col>PC2</th><th scope=col>PC3</th><th scope=col>PC4</th><th scope=col>PC5</th><th scope=col>PC6</th><th scope=col>PC7</th><th scope=col>PC8</th><th scope=col>PC9</th><th scope=col>PC10</th><th scope=col>⋯</th><th scope=col>PC41</th><th scope=col>PC42</th><th scope=col>PC43</th><th scope=col>PC44</th><th scope=col>PC45</th><th scope=col>PC46</th><th scope=col>PC47</th><th scope=col>PC48</th><th scope=col>PC49</th><th scope=col>PC50</th></tr>\n",
       "</thead>\n",
       "<tbody>\n",
       "\t<tr><th scope=row>mouse1_lib1.final_cell_0001</th><td>-5.474738</td><td> -5.399687</td><td> 1.741385</td><td>-9.176267</td><td>8.230997</td><td>-0.7303403</td><td>-0.7870554</td><td> 2.379417</td><td>-1.648423</td><td> 4.0194191</td><td>⋯</td><td> 0.22328113</td><td>-0.76231262</td><td> 0.03030099</td><td> 0.06419071</td><td> 0.1165511</td><td> 0.27053460</td><td>-1.0904921</td><td> 0.80049612</td><td>-0.4952311</td><td> 0.0389481</td></tr>\n",
       "\t<tr><th scope=row>mouse1_lib1.final_cell_0002</th><td>29.411643</td><td>  5.058639</td><td>-8.589506</td><td>-8.499271</td><td>9.080262</td><td>-1.9830392</td><td>-3.2393149</td><td> 8.360569</td><td>-2.656231</td><td> 5.3102605</td><td>⋯</td><td> 0.58543265</td><td> 0.73914022</td><td> 2.69610871</td><td>-1.02585768</td><td> 0.2008378</td><td>-0.35073979</td><td> 1.3784631</td><td> 0.54119907</td><td> 0.4075750</td><td> 0.2895927</td></tr>\n",
       "\t<tr><th scope=row>mouse1_lib1.final_cell_0003</th><td>-2.817847</td><td>-12.027835</td><td>-4.509859</td><td> 7.017303</td><td>2.768722</td><td> 1.5181279</td><td>10.2022666</td><td> 2.649067</td><td>-2.600429</td><td> 3.5069399</td><td>⋯</td><td> 0.46419024</td><td> 0.50483812</td><td> 1.05360641</td><td> 0.42954997</td><td>-1.1363964</td><td>-0.74090438</td><td>-0.5518560</td><td>-0.51106019</td><td>-1.0773377</td><td> 0.1763300</td></tr>\n",
       "\t<tr><th scope=row>mouse1_lib1.final_cell_0004</th><td>25.466861</td><td>  4.013618</td><td> 2.947104</td><td>-3.234919</td><td>4.512926</td><td> 1.8047713</td><td>-3.8966908</td><td>11.148336</td><td>-3.863470</td><td>-0.5574236</td><td>⋯</td><td> 2.47984781</td><td>-1.18006744</td><td> 0.17751700</td><td> 1.81967443</td><td> 0.1634723</td><td> 1.60164135</td><td> 0.9712913</td><td>-0.08168831</td><td>-0.3444204</td><td>-1.2100870</td></tr>\n",
       "\t<tr><th scope=row>mouse1_lib1.final_cell_0005</th><td>-2.086323</td><td>-11.347221</td><td>-4.579597</td><td> 8.318308</td><td>5.177865</td><td> 2.5276465</td><td> 8.7717027</td><td> 3.022545</td><td>-3.432456</td><td> 2.9720628</td><td>⋯</td><td>-1.21166363</td><td>-0.08906445</td><td> 0.28384998</td><td> 0.15156459</td><td> 1.0117032</td><td> 0.03328114</td><td>-0.8833628</td><td>-0.05343024</td><td>-0.8091522</td><td>-0.3913260</td></tr>\n",
       "\t<tr><th scope=row>mouse1_lib1.final_cell_0006</th><td>-4.265137</td><td> -2.926911</td><td> 2.926162</td><td>-8.077558</td><td>3.845825</td><td>-1.5302967</td><td>-1.4540983</td><td> 3.468709</td><td>-1.223515</td><td> 2.3831087</td><td>⋯</td><td> 0.05536741</td><td> 0.56626138</td><td>-1.33469350</td><td> 0.34218488</td><td> 1.1424103</td><td>-0.96381047</td><td>-0.3347897</td><td>-0.19264169</td><td> 1.3806936</td><td> 0.6407179</td></tr>\n",
       "</tbody>\n",
       "</table>\n"
      ],
      "text/latex": [
       "A matrix: 6 × 50 of type dbl\n",
       "\\begin{tabular}{r|lllllllllllllllllllll}\n",
       "  & PC1 & PC2 & PC3 & PC4 & PC5 & PC6 & PC7 & PC8 & PC9 & PC10 & ⋯ & PC41 & PC42 & PC43 & PC44 & PC45 & PC46 & PC47 & PC48 & PC49 & PC50\\\\\n",
       "\\hline\n",
       "\tmouse1\\_lib1.final\\_cell\\_0001 & -5.474738 &  -5.399687 &  1.741385 & -9.176267 & 8.230997 & -0.7303403 & -0.7870554 &  2.379417 & -1.648423 &  4.0194191 & ⋯ &  0.22328113 & -0.76231262 &  0.03030099 &  0.06419071 &  0.1165511 &  0.27053460 & -1.0904921 &  0.80049612 & -0.4952311 &  0.0389481\\\\\n",
       "\tmouse1\\_lib1.final\\_cell\\_0002 & 29.411643 &   5.058639 & -8.589506 & -8.499271 & 9.080262 & -1.9830392 & -3.2393149 &  8.360569 & -2.656231 &  5.3102605 & ⋯ &  0.58543265 &  0.73914022 &  2.69610871 & -1.02585768 &  0.2008378 & -0.35073979 &  1.3784631 &  0.54119907 &  0.4075750 &  0.2895927\\\\\n",
       "\tmouse1\\_lib1.final\\_cell\\_0003 & -2.817847 & -12.027835 & -4.509859 &  7.017303 & 2.768722 &  1.5181279 & 10.2022666 &  2.649067 & -2.600429 &  3.5069399 & ⋯ &  0.46419024 &  0.50483812 &  1.05360641 &  0.42954997 & -1.1363964 & -0.74090438 & -0.5518560 & -0.51106019 & -1.0773377 &  0.1763300\\\\\n",
       "\tmouse1\\_lib1.final\\_cell\\_0004 & 25.466861 &   4.013618 &  2.947104 & -3.234919 & 4.512926 &  1.8047713 & -3.8966908 & 11.148336 & -3.863470 & -0.5574236 & ⋯ &  2.47984781 & -1.18006744 &  0.17751700 &  1.81967443 &  0.1634723 &  1.60164135 &  0.9712913 & -0.08168831 & -0.3444204 & -1.2100870\\\\\n",
       "\tmouse1\\_lib1.final\\_cell\\_0005 & -2.086323 & -11.347221 & -4.579597 &  8.318308 & 5.177865 &  2.5276465 &  8.7717027 &  3.022545 & -3.432456 &  2.9720628 & ⋯ & -1.21166363 & -0.08906445 &  0.28384998 &  0.15156459 &  1.0117032 &  0.03328114 & -0.8833628 & -0.05343024 & -0.8091522 & -0.3913260\\\\\n",
       "\tmouse1\\_lib1.final\\_cell\\_0006 & -4.265137 &  -2.926911 &  2.926162 & -8.077558 & 3.845825 & -1.5302967 & -1.4540983 &  3.468709 & -1.223515 &  2.3831087 & ⋯ &  0.05536741 &  0.56626138 & -1.33469350 &  0.34218488 &  1.1424103 & -0.96381047 & -0.3347897 & -0.19264169 &  1.3806936 &  0.6407179\\\\\n",
       "\\end{tabular}\n"
      ],
      "text/markdown": [
       "\n",
       "A matrix: 6 × 50 of type dbl\n",
       "\n",
       "| <!--/--> | PC1 | PC2 | PC3 | PC4 | PC5 | PC6 | PC7 | PC8 | PC9 | PC10 | ⋯ | PC41 | PC42 | PC43 | PC44 | PC45 | PC46 | PC47 | PC48 | PC49 | PC50 |\n",
       "|---|---|---|---|---|---|---|---|---|---|---|---|---|---|---|---|---|---|---|---|---|---|\n",
       "| mouse1_lib1.final_cell_0001 | -5.474738 |  -5.399687 |  1.741385 | -9.176267 | 8.230997 | -0.7303403 | -0.7870554 |  2.379417 | -1.648423 |  4.0194191 | ⋯ |  0.22328113 | -0.76231262 |  0.03030099 |  0.06419071 |  0.1165511 |  0.27053460 | -1.0904921 |  0.80049612 | -0.4952311 |  0.0389481 |\n",
       "| mouse1_lib1.final_cell_0002 | 29.411643 |   5.058639 | -8.589506 | -8.499271 | 9.080262 | -1.9830392 | -3.2393149 |  8.360569 | -2.656231 |  5.3102605 | ⋯ |  0.58543265 |  0.73914022 |  2.69610871 | -1.02585768 |  0.2008378 | -0.35073979 |  1.3784631 |  0.54119907 |  0.4075750 |  0.2895927 |\n",
       "| mouse1_lib1.final_cell_0003 | -2.817847 | -12.027835 | -4.509859 |  7.017303 | 2.768722 |  1.5181279 | 10.2022666 |  2.649067 | -2.600429 |  3.5069399 | ⋯ |  0.46419024 |  0.50483812 |  1.05360641 |  0.42954997 | -1.1363964 | -0.74090438 | -0.5518560 | -0.51106019 | -1.0773377 |  0.1763300 |\n",
       "| mouse1_lib1.final_cell_0004 | 25.466861 |   4.013618 |  2.947104 | -3.234919 | 4.512926 |  1.8047713 | -3.8966908 | 11.148336 | -3.863470 | -0.5574236 | ⋯ |  2.47984781 | -1.18006744 |  0.17751700 |  1.81967443 |  0.1634723 |  1.60164135 |  0.9712913 | -0.08168831 | -0.3444204 | -1.2100870 |\n",
       "| mouse1_lib1.final_cell_0005 | -2.086323 | -11.347221 | -4.579597 |  8.318308 | 5.177865 |  2.5276465 |  8.7717027 |  3.022545 | -3.432456 |  2.9720628 | ⋯ | -1.21166363 | -0.08906445 |  0.28384998 |  0.15156459 |  1.0117032 |  0.03328114 | -0.8833628 | -0.05343024 | -0.8091522 | -0.3913260 |\n",
       "| mouse1_lib1.final_cell_0006 | -4.265137 |  -2.926911 |  2.926162 | -8.077558 | 3.845825 | -1.5302967 | -1.4540983 |  3.468709 | -1.223515 |  2.3831087 | ⋯ |  0.05536741 |  0.56626138 | -1.33469350 |  0.34218488 |  1.1424103 | -0.96381047 | -0.3347897 | -0.19264169 |  1.3806936 |  0.6407179 |\n",
       "\n"
      ],
      "text/plain": [
       "                            PC1       PC2        PC3       PC4       PC5     \n",
       "mouse1_lib1.final_cell_0001 -5.474738  -5.399687  1.741385 -9.176267 8.230997\n",
       "mouse1_lib1.final_cell_0002 29.411643   5.058639 -8.589506 -8.499271 9.080262\n",
       "mouse1_lib1.final_cell_0003 -2.817847 -12.027835 -4.509859  7.017303 2.768722\n",
       "mouse1_lib1.final_cell_0004 25.466861   4.013618  2.947104 -3.234919 4.512926\n",
       "mouse1_lib1.final_cell_0005 -2.086323 -11.347221 -4.579597  8.318308 5.177865\n",
       "mouse1_lib1.final_cell_0006 -4.265137  -2.926911  2.926162 -8.077558 3.845825\n",
       "                            PC6        PC7        PC8       PC9      \n",
       "mouse1_lib1.final_cell_0001 -0.7303403 -0.7870554  2.379417 -1.648423\n",
       "mouse1_lib1.final_cell_0002 -1.9830392 -3.2393149  8.360569 -2.656231\n",
       "mouse1_lib1.final_cell_0003  1.5181279 10.2022666  2.649067 -2.600429\n",
       "mouse1_lib1.final_cell_0004  1.8047713 -3.8966908 11.148336 -3.863470\n",
       "mouse1_lib1.final_cell_0005  2.5276465  8.7717027  3.022545 -3.432456\n",
       "mouse1_lib1.final_cell_0006 -1.5302967 -1.4540983  3.468709 -1.223515\n",
       "                            PC10       ⋯ PC41        PC42        PC43       \n",
       "mouse1_lib1.final_cell_0001  4.0194191 ⋯  0.22328113 -0.76231262  0.03030099\n",
       "mouse1_lib1.final_cell_0002  5.3102605 ⋯  0.58543265  0.73914022  2.69610871\n",
       "mouse1_lib1.final_cell_0003  3.5069399 ⋯  0.46419024  0.50483812  1.05360641\n",
       "mouse1_lib1.final_cell_0004 -0.5574236 ⋯  2.47984781 -1.18006744  0.17751700\n",
       "mouse1_lib1.final_cell_0005  2.9720628 ⋯ -1.21166363 -0.08906445  0.28384998\n",
       "mouse1_lib1.final_cell_0006  2.3831087 ⋯  0.05536741  0.56626138 -1.33469350\n",
       "                            PC44        PC45       PC46        PC47      \n",
       "mouse1_lib1.final_cell_0001  0.06419071  0.1165511  0.27053460 -1.0904921\n",
       "mouse1_lib1.final_cell_0002 -1.02585768  0.2008378 -0.35073979  1.3784631\n",
       "mouse1_lib1.final_cell_0003  0.42954997 -1.1363964 -0.74090438 -0.5518560\n",
       "mouse1_lib1.final_cell_0004  1.81967443  0.1634723  1.60164135  0.9712913\n",
       "mouse1_lib1.final_cell_0005  0.15156459  1.0117032  0.03328114 -0.8833628\n",
       "mouse1_lib1.final_cell_0006  0.34218488  1.1424103 -0.96381047 -0.3347897\n",
       "                            PC48        PC49       PC50      \n",
       "mouse1_lib1.final_cell_0001  0.80049612 -0.4952311  0.0389481\n",
       "mouse1_lib1.final_cell_0002  0.54119907  0.4075750  0.2895927\n",
       "mouse1_lib1.final_cell_0003 -0.51106019 -1.0773377  0.1763300\n",
       "mouse1_lib1.final_cell_0004 -0.08168831 -0.3444204 -1.2100870\n",
       "mouse1_lib1.final_cell_0005 -0.05343024 -0.8091522 -0.3913260\n",
       "mouse1_lib1.final_cell_0006 -0.19264169  1.3806936  0.6407179"
      ]
     },
     "metadata": {},
     "output_type": "display_data"
    }
   ],
   "source": [
    "head(reducedDim(sce, \"PCA\"))#[,1:2])"
   ]
  },
  {
   "cell_type": "code",
   "execution_count": 21,
   "id": "af05c5bf",
   "metadata": {},
   "outputs": [
    {
     "data": {
      "text/html": [
       "<table class=\"dataframe\">\n",
       "<caption>A matrix: 6 × 2 of type dbl</caption>\n",
       "<tbody>\n",
       "\t<tr><th scope=row>mouse1_lib1.final_cell_0001</th><td>-28.718467</td><td> -1.424000</td></tr>\n",
       "\t<tr><th scope=row>mouse1_lib1.final_cell_0002</th><td> -3.653921</td><td> 27.316710</td></tr>\n",
       "\t<tr><th scope=row>mouse1_lib1.final_cell_0003</th><td> 10.051653</td><td>-10.965512</td></tr>\n",
       "\t<tr><th scope=row>mouse1_lib1.final_cell_0004</th><td>-10.933622</td><td> 20.801191</td></tr>\n",
       "\t<tr><th scope=row>mouse1_lib1.final_cell_0005</th><td> 10.660156</td><td>-10.748342</td></tr>\n",
       "\t<tr><th scope=row>mouse1_lib1.final_cell_0006</th><td>-28.989676</td><td> -2.145399</td></tr>\n",
       "</tbody>\n",
       "</table>\n"
      ],
      "text/latex": [
       "A matrix: 6 × 2 of type dbl\n",
       "\\begin{tabular}{r|ll}\n",
       "\tmouse1\\_lib1.final\\_cell\\_0001 & -28.718467 &  -1.424000\\\\\n",
       "\tmouse1\\_lib1.final\\_cell\\_0002 &  -3.653921 &  27.316710\\\\\n",
       "\tmouse1\\_lib1.final\\_cell\\_0003 &  10.051653 & -10.965512\\\\\n",
       "\tmouse1\\_lib1.final\\_cell\\_0004 & -10.933622 &  20.801191\\\\\n",
       "\tmouse1\\_lib1.final\\_cell\\_0005 &  10.660156 & -10.748342\\\\\n",
       "\tmouse1\\_lib1.final\\_cell\\_0006 & -28.989676 &  -2.145399\\\\\n",
       "\\end{tabular}\n"
      ],
      "text/markdown": [
       "\n",
       "A matrix: 6 × 2 of type dbl\n",
       "\n",
       "| mouse1_lib1.final_cell_0001 | -28.718467 |  -1.424000 |\n",
       "| mouse1_lib1.final_cell_0002 |  -3.653921 |  27.316710 |\n",
       "| mouse1_lib1.final_cell_0003 |  10.051653 | -10.965512 |\n",
       "| mouse1_lib1.final_cell_0004 | -10.933622 |  20.801191 |\n",
       "| mouse1_lib1.final_cell_0005 |  10.660156 | -10.748342 |\n",
       "| mouse1_lib1.final_cell_0006 | -28.989676 |  -2.145399 |\n",
       "\n"
      ],
      "text/plain": [
       "                            [,1]       [,2]      \n",
       "mouse1_lib1.final_cell_0001 -28.718467  -1.424000\n",
       "mouse1_lib1.final_cell_0002  -3.653921  27.316710\n",
       "mouse1_lib1.final_cell_0003  10.051653 -10.965512\n",
       "mouse1_lib1.final_cell_0004 -10.933622  20.801191\n",
       "mouse1_lib1.final_cell_0005  10.660156 -10.748342\n",
       "mouse1_lib1.final_cell_0006 -28.989676  -2.145399"
      ]
     },
     "metadata": {},
     "output_type": "display_data"
    }
   ],
   "source": [
    "head(reducedDim(sce, \"TSNE\"))#[,1:2])"
   ]
  },
  {
   "cell_type": "code",
   "execution_count": null,
   "id": "3f883ae4",
   "metadata": {},
   "outputs": [],
   "source": []
  }
 ],
 "metadata": {
  "kernelspec": {
   "display_name": "R",
   "language": "R",
   "name": "ir"
  },
  "language_info": {
   "codemirror_mode": "r",
   "file_extension": ".r",
   "mimetype": "text/x-r-source",
   "name": "R",
   "pygments_lexer": "r",
   "version": "4.2.3"
  }
 },
 "nbformat": 4,
 "nbformat_minor": 5
}

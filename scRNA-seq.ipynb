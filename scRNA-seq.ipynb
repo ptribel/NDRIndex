{
 "cells": [
  {
   "cell_type": "markdown",
   "id": "0facb849",
   "metadata": {},
   "source": [
    "Understanding the data: https://www.nature.com/articles/s41596-020-00409-w"
   ]
  },
  {
   "cell_type": "code",
   "execution_count": 1,
   "id": "892cc789",
   "metadata": {
    "scrolled": true
   },
   "outputs": [
    {
     "name": "stderr",
     "output_type": "stream",
     "text": [
      "Le chargement a nécessité le package : SummarizedExperiment\n",
      "\n",
      "Le chargement a nécessité le package : MatrixGenerics\n",
      "\n",
      "Le chargement a nécessité le package : matrixStats\n",
      "\n",
      "\n",
      "Attachement du package : ‘MatrixGenerics’\n",
      "\n",
      "\n",
      "Les objets suivants sont masqués depuis ‘package:matrixStats’:\n",
      "\n",
      "    colAlls, colAnyNAs, colAnys, colAvgsPerRowSet, colCollapse,\n",
      "    colCounts, colCummaxs, colCummins, colCumprods, colCumsums,\n",
      "    colDiffs, colIQRDiffs, colIQRs, colLogSumExps, colMadDiffs,\n",
      "    colMads, colMaxs, colMeans2, colMedians, colMins, colOrderStats,\n",
      "    colProds, colQuantiles, colRanges, colRanks, colSdDiffs, colSds,\n",
      "    colSums2, colTabulates, colVarDiffs, colVars, colWeightedMads,\n",
      "    colWeightedMeans, colWeightedMedians, colWeightedSds,\n",
      "    colWeightedVars, rowAlls, rowAnyNAs, rowAnys, rowAvgsPerColSet,\n",
      "    rowCollapse, rowCounts, rowCummaxs, rowCummins, rowCumprods,\n",
      "    rowCumsums, rowDiffs, rowIQRDiffs, rowIQRs, rowLogSumExps,\n",
      "    rowMadDiffs, rowMads, rowMaxs, rowMeans2, rowMedians, rowMins,\n",
      "    rowOrderStats, rowProds, rowQuantiles, rowRanges, rowRanks,\n",
      "    rowSdDiffs, rowSds, rowSums2, rowTabulates, rowVarDiffs, rowVars,\n",
      "    rowWeightedMads, rowWeightedMeans, rowWeightedMedians,\n",
      "    rowWeightedSds, rowWeightedVars\n",
      "\n",
      "\n",
      "Le chargement a nécessité le package : GenomicRanges\n",
      "\n",
      "Le chargement a nécessité le package : stats4\n",
      "\n",
      "Le chargement a nécessité le package : BiocGenerics\n",
      "\n",
      "\n",
      "Attachement du package : ‘BiocGenerics’\n",
      "\n",
      "\n",
      "Les objets suivants sont masqués depuis ‘package:stats’:\n",
      "\n",
      "    IQR, mad, sd, var, xtabs\n",
      "\n",
      "\n",
      "Les objets suivants sont masqués depuis ‘package:base’:\n",
      "\n",
      "    anyDuplicated, aperm, append, as.data.frame, basename, cbind,\n",
      "    colnames, dirname, do.call, duplicated, eval, evalq, Filter, Find,\n",
      "    get, grep, grepl, intersect, is.unsorted, lapply, Map, mapply,\n",
      "    match, mget, order, paste, pmax, pmax.int, pmin, pmin.int,\n",
      "    Position, rank, rbind, Reduce, rownames, sapply, setdiff, sort,\n",
      "    table, tapply, union, unique, unsplit, which.max, which.min\n",
      "\n",
      "\n",
      "Le chargement a nécessité le package : S4Vectors\n",
      "\n",
      "\n",
      "Attachement du package : ‘S4Vectors’\n",
      "\n",
      "\n",
      "Les objets suivants sont masqués depuis ‘package:base’:\n",
      "\n",
      "    expand.grid, I, unname\n",
      "\n",
      "\n",
      "Le chargement a nécessité le package : IRanges\n",
      "\n",
      "Le chargement a nécessité le package : GenomeInfoDb\n",
      "\n",
      "Le chargement a nécessité le package : Biobase\n",
      "\n",
      "Welcome to Bioconductor\n",
      "\n",
      "    Vignettes contain introductory material; view with\n",
      "    'browseVignettes()'. To cite Bioconductor, see\n",
      "    'citation(\"Biobase\")', and for packages 'citation(\"pkgname\")'.\n",
      "\n",
      "\n",
      "\n",
      "Attachement du package : ‘Biobase’\n",
      "\n",
      "\n",
      "L'objet suivant est masqué depuis ‘package:MatrixGenerics’:\n",
      "\n",
      "    rowMedians\n",
      "\n",
      "\n",
      "Les objets suivants sont masqués depuis ‘package:matrixStats’:\n",
      "\n",
      "    anyMissing, rowMedians\n",
      "\n",
      "\n"
     ]
    }
   ],
   "source": [
    "library(SingleCellExperiment)\n",
    "library(scRNAseq)\n",
    "library(Rtsne)"
   ]
  },
  {
   "cell_type": "code",
   "execution_count": 2,
   "id": "bfb9cbaa",
   "metadata": {
    "scrolled": true
   },
   "outputs": [
    {
     "name": "stderr",
     "output_type": "stream",
     "text": [
      "snapshotDate(): 2022-10-31\n",
      "\n",
      "see ?scRNAseq and browseVignettes('scRNAseq') for documentation\n",
      "\n",
      "loading from cache\n",
      "\n",
      "see ?scRNAseq and browseVignettes('scRNAseq') for documentation\n",
      "\n",
      "loading from cache\n",
      "\n"
     ]
    }
   ],
   "source": [
    "sce <-BaronPancreasData('mouse')# ReprocessedAllenData(\"tophat_counts\")"
   ]
  },
  {
   "cell_type": "code",
   "execution_count": 3,
   "id": "f14d3187",
   "metadata": {},
   "outputs": [
    {
     "data": {
      "text/plain": [
       "class: SingleCellExperiment \n",
       "dim: 6 1886 \n",
       "metadata(0):\n",
       "assays(1): counts\n",
       "rownames(6): X0610007P14Rik X0610009B22Rik ... X0610009O20Rik\n",
       "  X0610010F05Rik\n",
       "rowData names(0):\n",
       "colnames(1886): mouse1_lib1.final_cell_0001 mouse1_lib1.final_cell_0002\n",
       "  ... mouse2_lib3.final_cell_0394 mouse2_lib3.final_cell_0395\n",
       "colData names(2): strain label\n",
       "reducedDimNames(0):\n",
       "mainExpName: NULL\n",
       "altExpNames(0):"
      ]
     },
     "metadata": {},
     "output_type": "display_data"
    }
   ],
   "source": [
    "head(sce)"
   ]
  },
  {
   "cell_type": "code",
   "execution_count": 4,
   "id": "18ef1cc0",
   "metadata": {},
   "outputs": [
    {
     "data": {
      "text/html": [
       "<style>\n",
       ".list-inline {list-style: none; margin:0; padding: 0}\n",
       ".list-inline>li {display: inline-block}\n",
       ".list-inline>li:not(:last-child)::after {content: \"\\00b7\"; padding: 0 .5ex}\n",
       "</style>\n",
       "<ol class=list-inline><li>'counts'</li><li>'logcounts'</li></ol>\n"
      ],
      "text/latex": [
       "\\begin{enumerate*}\n",
       "\\item 'counts'\n",
       "\\item 'logcounts'\n",
       "\\end{enumerate*}\n"
      ],
      "text/markdown": [
       "1. 'counts'\n",
       "2. 'logcounts'\n",
       "\n",
       "\n"
      ],
      "text/plain": [
       "[1] \"counts\"    \"logcounts\""
      ]
     },
     "metadata": {},
     "output_type": "display_data"
    }
   ],
   "source": [
    "counts <- assay(sce, \"counts\")\n",
    "libsizes <- colSums(counts)\n",
    "size.factors <- libsizes/mean(libsizes)\n",
    "logcounts(sce) <- log2(t(t(counts)/size.factors) + 1)\n",
    "assayNames(sce)"
   ]
  },
  {
   "cell_type": "code",
   "execution_count": 5,
   "id": "787c4bd0",
   "metadata": {},
   "outputs": [],
   "source": [
    "#pca_data <- prcomp(t(logcounts(sce)), rank=50)\n",
    "\n",
    "#set.seed(5252)\n",
    "#tsne_data <- Rtsne(pca_data$x[,1:50], pca = FALSE)\n",
    "\n",
    "#reducedDims(sce) <- list(PCA=pca_data$x, TSNE=tsne_data$Y)\n",
    "#sce"
   ]
  },
  {
   "cell_type": "code",
   "execution_count": 6,
   "id": "42930c43",
   "metadata": {},
   "outputs": [],
   "source": [
    "#head(reducedDim(sce, \"PCA\"))#[,1:2])"
   ]
  },
  {
   "cell_type": "code",
   "execution_count": 7,
   "id": "af05c5bf",
   "metadata": {},
   "outputs": [],
   "source": [
    "#head(reducedDim(sce, \"TSNE\"))#[,1:2])"
   ]
  },
  {
   "cell_type": "code",
   "execution_count": 12,
   "id": "3f883ae4",
   "metadata": {},
   "outputs": [],
   "source": [
    "write.csv(as.matrix(counts), \"mouse.csv\")"
   ]
  },
  {
   "cell_type": "code",
   "execution_count": null,
   "id": "fc07e74e",
   "metadata": {},
   "outputs": [],
   "source": []
  }
 ],
 "metadata": {
  "kernelspec": {
   "display_name": "R",
   "language": "R",
   "name": "ir"
  },
  "language_info": {
   "codemirror_mode": "r",
   "file_extension": ".r",
   "mimetype": "text/x-r-source",
   "name": "R",
   "pygments_lexer": "r",
   "version": "4.2.3"
  }
 },
 "nbformat": 4,
 "nbformat_minor": 5
}
